{
 "cells": [
  {
   "cell_type": "code",
   "execution_count": 12,
   "metadata": {},
   "outputs": [],
   "source": [
    "import numpy as np\n",
    "import pandas as pd"
   ]
  },
  {
   "cell_type": "code",
   "execution_count": null,
   "metadata": {},
   "outputs": [],
   "source": [
    "# folder path containing MSI processed data\n",
    "folder = \"/pathtoMSI/\"\n",
    "\n",
    "# Names of MSI found in folder path\n",
    "im_names = [\"MSIname1\",\"MSIname2\"]\n"
   ]
  },
  {
   "cell_type": "code",
   "execution_count": 7,
   "metadata": {},
   "outputs": [],
   "source": [
    "# load m/z values of all MSI\n",
    "\n",
    "peaks = np.genfromtxt(folder + \"/file_containg_mz.csv\")\n",
    "\n",
    "# load processed MSI\n",
    "\n",
    "df = pd.DataFrame()\n",
    "imstruct = pd.DataFrame()\n",
    "imstruct[\"peaks\"] = peaks\n",
    "for i,f in enumerate(im_names):\n",
    "\n",
    "    msi = np.load(folder+f+\"_msi.npy\")\n",
    "    crd = np.load(folder+f+\"_crd.npy\")\n",
    "    crd[:,0] =crd[:,0] - np.min(crd[:,0])+1\n",
    "    crd[:,1] =crd[:,1] - np.min(crd[:,1])+1\n",
    "    crd = (crd[:,[0,1]]).astype(int)\n",
    "    \n",
    "    # load structure score of each ion image\n",
    "    vec = np.genfromtxt(folder+f+\"_spatial_score.csv\")\n",
    "    imstruct[f] = vec\n",
    "    \n",
    "    df_msi = pd.DataFrame(np.transpose(msi), columns = peaks )\n",
    "\n",
    "    df_msi[\"image\"] = np.repeat(f,np.shape(df_msi)[0])\n",
    "    df_msi[\"annotation\"] = np.repeat(im_names[i],np.shape(df_msi)[0])\n",
    "\n",
    "    \n",
    "    df_msi[\"crd X\"] =crd[:,0]\n",
    "    df_msi[\"crd Y\"] =crd[:,1]\n",
    "\n",
    "    df = df.append(df_msi, ignore_index = True)"
   ]
  },
  {
   "cell_type": "code",
   "execution_count": 9,
   "metadata": {},
   "outputs": [],
   "source": [
    "imstruct = imstruct.fillna(0)\n",
    "\n",
    "# Define the image structure score of the class \"Control\" and \"Interaction\" from MSI names\n",
    "imstruct[\"Image Structure Control\"] = np.max(imstruct[im_names[0]],axis=1)\n",
    "imstruct[\"Image Structure Interaction\"] = np.max(imstruct[im_names[1]],axis=1)\n",
    "\n",
    "# Compute image structure fold change\n",
    "imstruct[\"Image Fold Change Interaction/Control\"]=imstruct[\"Image Structure Interaction\"]/imstruct[\"Image Structure Control\"]"
   ]
  },
  {
   "cell_type": "code",
   "execution_count": 10,
   "metadata": {},
   "outputs": [],
   "source": [
    "for index, row in imstruct.iterrows():\n",
    "    if np.isnan(row[\"Image Structure Control\"]) & (row[\"Image Structure Interaction\"] >0):\n",
    "        imstruct.loc[index][\"Image Fold Change Interaction/Control\"] = np.inf\n",
    "        \n",
    "    if np.isnan(row[\"Image Structure Interaction\"]) & (row[\"Image Structure Control\"] >0):\n",
    "        imstruct.loc[index][\"Image Fold Change Interaction/Control\"] = 0"
   ]
  },
  {
   "cell_type": "code",
   "execution_count": null,
   "metadata": {},
   "outputs": [],
   "source": [
    "# save results\n",
    "imstruct.to_csv(\"/outputpath/feature_score_msi.csv\",index=True)"
   ]
  }
 ],
 "metadata": {
  "kernelspec": {
   "display_name": "Python 3",
   "language": "python",
   "name": "python3"
  },
  "language_info": {
   "codemirror_mode": {
    "name": "ipython",
    "version": 3
   },
   "file_extension": ".py",
   "mimetype": "text/x-python",
   "name": "python",
   "nbconvert_exporter": "python",
   "pygments_lexer": "ipython3",
   "version": "3.7.7"
  }
 },
 "nbformat": 4,
 "nbformat_minor": 4
}
